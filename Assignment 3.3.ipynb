{
 "cells": [
  {
   "cell_type": "code",
   "execution_count": 2,
   "metadata": {},
   "outputs": [],
   "source": [
    "from functools import reduce"
   ]
  },
  {
   "cell_type": "code",
   "execution_count": 25,
   "metadata": {},
   "outputs": [
    {
     "name": "stdout",
     "output_type": "stream",
     "text": [
      "The longest word is Sasmita\n"
     ]
    }
   ],
   "source": [
    "### Function longestWord() that takes a list of words and returns the longest one.\n",
    "\n",
    "def longestWord(list_of_words):\n",
    "    wordlen = []\n",
    "    for n in list_of_words:\n",
    "        wordlen.append((len(n), n))\n",
    "      \n",
    "    wordlen.sort()\n",
    "    return wordlen[-1][1]\n",
    "    \n",
    "\n",
    "print (\"The longest word is \" +longestWord([\"Sasmita\", \"Patra\", \"Raut\"]))"
   ]
  },
  {
   "cell_type": "code",
   "execution_count": 27,
   "metadata": {},
   "outputs": [
    {
     "name": "stdout",
     "output_type": "stream",
     "text": [
      "The longest string is TIGER\n"
     ]
    }
   ],
   "source": [
    "def longestWord1(word_list):\n",
    "    return max(word_list,key=len)\n",
    "\n",
    "print (\"The longest string is \" +string([\"CAT\" , \"TIGER\", \"LION\"]))"
   ]
  },
  {
   "cell_type": "code",
   "execution_count": null,
   "metadata": {},
   "outputs": [],
   "source": []
  },
  {
   "cell_type": "code",
   "execution_count": null,
   "metadata": {},
   "outputs": [],
   "source": []
  }
 ],
 "metadata": {
  "kernelspec": {
   "display_name": "Python 3",
   "language": "python",
   "name": "python3"
  },
  "language_info": {
   "codemirror_mode": {
    "name": "ipython",
    "version": 3
   },
   "file_extension": ".py",
   "mimetype": "text/x-python",
   "name": "python",
   "nbconvert_exporter": "python",
   "pygments_lexer": "ipython3",
   "version": "3.6.4"
  }
 },
 "nbformat": 4,
 "nbformat_minor": 2
}
